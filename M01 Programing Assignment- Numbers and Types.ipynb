{
 "cells": [
  {
   "cell_type": "code",
   "execution_count": 2,
   "id": "e200f507",
   "metadata": {},
   "outputs": [
    {
     "data": {
      "text/plain": [
       "3600"
      ]
     },
     "execution_count": 2,
     "metadata": {},
     "output_type": "execute_result"
    }
   ],
   "source": [
    "# 3.1 How many seconds are in an hour? Use the interactive interpreter as a calculator and multiply the number of seconds in\n",
    "# minutes (60) by the number of minutes in an hour (also 60)\n",
    "\n",
    "# 60 Seconds in a minute\n",
    "# 60 Minutes in an hour\n",
    "# to get the total multiply 60 by 60\n",
    "\n",
    "60 * 60 \n"
   ]
  },
  {
   "cell_type": "code",
   "execution_count": 4,
   "id": "9502f5b2",
   "metadata": {},
   "outputs": [
    {
     "data": {
      "text/plain": [
       "3600"
      ]
     },
     "execution_count": 4,
     "metadata": {},
     "output_type": "execute_result"
    }
   ],
   "source": [
    "# 3.2 Assign the result from the previous task (seconds in an hour) to a variable called \"seconds_per_hour\".\n",
    "\n",
    "# This assigns seconds_per_hour using the previous formula 60 seconds * 60 minutes to get seconds per hour.\n",
    "seconds_per_hour = 60 * 60\n",
    "seconds_per_hour"
   ]
  },
  {
   "cell_type": "code",
   "execution_count": 5,
   "id": "db6bd27a",
   "metadata": {},
   "outputs": [
    {
     "data": {
      "text/plain": [
       "86400"
      ]
     },
     "execution_count": 5,
     "metadata": {},
     "output_type": "execute_result"
    }
   ],
   "source": [
    "# 3.3 How many seconds are in a day? Use your \"seconds_per_hour\" variable.\n",
    "\n",
    "# To find the overall seconds in an entire day, seconds_per_hours has to been multiplied by 24 hours.\n",
    "seconds_per_hour * 24\n"
   ]
  },
  {
   "cell_type": "code",
   "execution_count": 6,
   "id": "9aaee0c0",
   "metadata": {},
   "outputs": [],
   "source": [
    "# 3.4 Calculate seconds per day again but this time save the result in a variable called \"seconds_per_day\".\n",
    "\n",
    "# Using the previous formula we can assign seconds_per_day as\n",
    "seconds_per_day = seconds_per_hour * 24"
   ]
  },
  {
   "cell_type": "code",
   "execution_count": 7,
   "id": "9fec79ad",
   "metadata": {},
   "outputs": [
    {
     "data": {
      "text/plain": [
       "24.0"
      ]
     },
     "execution_count": 7,
     "metadata": {},
     "output_type": "execute_result"
    }
   ],
   "source": [
    "# 3.5 Divide seconds_per_day by seconds_per_hour, using integer (/) division.\n",
    "\n",
    "# Using the previous two formulas\n",
    "seconds_per_day / seconds_per_hour"
   ]
  },
  {
   "cell_type": "code",
   "execution_count": 8,
   "id": "d345db9a",
   "metadata": {},
   "outputs": [
    {
     "data": {
      "text/plain": [
       "24"
      ]
     },
     "execution_count": 8,
     "metadata": {},
     "output_type": "execute_result"
    }
   ],
   "source": [
    "# 3.6 Divide seconds_per_day by seconds_per_hour, using integer (//) division.\n",
    "# Did this number agree with the floating-point value from the previous question, aside from the final .0?\n",
    "\n",
    "seconds_per_day // seconds_per_hour"
   ]
  },
  {
   "cell_type": "code",
   "execution_count": null,
   "id": "b9792558",
   "metadata": {},
   "outputs": [],
   "source": [
    "# 3.6 Continue\n",
    "# The number definately agrees with the floating-point value from the previous question."
   ]
  }
 ],
 "metadata": {
  "kernelspec": {
   "display_name": "Python 3 (ipykernel)",
   "language": "python",
   "name": "python3"
  },
  "language_info": {
   "codemirror_mode": {
    "name": "ipython",
    "version": 3
   },
   "file_extension": ".py",
   "mimetype": "text/x-python",
   "name": "python",
   "nbconvert_exporter": "python",
   "pygments_lexer": "ipython3",
   "version": "3.11.5"
  }
 },
 "nbformat": 4,
 "nbformat_minor": 5
}
